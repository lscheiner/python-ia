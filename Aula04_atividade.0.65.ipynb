{
 "cells": [
  {
   "cell_type": "markdown",
   "id": "12197a66",
   "metadata": {},
   "source": [
    "# Atividade Aula 4"
   ]
  },
  {
   "cell_type": "markdown",
   "id": "90386332",
   "metadata": {},
   "source": [
    "# Sobre o datset\n",
    "\n",
    "Prever a idade do abalone a partir de medições físicas. A idade do abalone é determinada cortando a concha através do cone, colorindo-a e contando o número de anéis em um microscópio - uma tarefa enfadonha e demorada. Outras medidas, mais fáceis de obter, são utilizadas para prever a idade. \n",
    "\n",
    "Dos dados originais, os exemplos com valores ausentes foram removidos (a maioria tendo o valor predito ausente) e os intervalos dos valores contínuos foram escalados para uso com uma ANN (dividindo por 200).\n",
    "\n",
    "## Informações dos Atributos:\n",
    "\n",
    "É fornecido o nome do atributo, o tipo de atributo, a unidade de medida e uma breve descrição. O número de toques é o valor a prever: seja como um valor contínuo ou como um problema de classificação.\n",
    "\n",
    "Nome / Tipo de Dados / Unidade de Medição / Descrição\n",
    "- Sexo / nominal / - / M, F e I (jovem)\n",
    "- Comprimento / contínuo / mm / Medição de valva(concha) mais longa\n",
    "- Diâmetro / contínuo / mm / perpendicular ao comprimento\n",
    "- Altura / contínua / mm / com carne nas valvas\n",
    "- Peso total / contínuo / gramas / abalone inteiro\n",
    "- Peso descascado / contínuo / gramas / peso da carne\n",
    "- Peso das vísceras / contínuo / gramas / peso intestinal (após sangramento)\n",
    "- Peso da casca / contínuo / gramas / após secagem\n",
    "- Rings / integer / - / +1.5 dá a idade em anos\n",
    "\n",
    "## Fonte:\n",
    "\n",
    "Os dados vêm de um estudo original (sem aprendizado de máquina):\n",
    "Warwick J Nash, Tracy L Sellers, Simon R Talbot, Andrew J Cawthorn e Wes B Ford (1994)\n",
    "\"The Population Biology of Abalone (_Haliotis_ species) in Tasmania. I. Blacklip Abalone (_H. Rubra_) from the North Coast and Islands of Bass Strait\", Divisão de Pesca Marítima, Relatório Técnico nº 48 (ISSN 1034-3288)\n",
    "\n",
    "\n",
    "## Atribuições do conjunto de dados\n",
    "\n",
    "Esse conjunto de dados foi obtido de:\n",
    "Dua, D. e Graff, C. (2019). repositório UCI Machine Learning (https://archive.ics.uci.edu/ml/datasets/abalone). Irvine, CA: University of California, School of Information and Computer Science."
   ]
  },
  {
   "cell_type": "markdown",
   "id": "7c12fd68",
   "metadata": {},
   "source": [
    "# Etapa 1: Explorando os dados\n",
    "\n",
    "Vamos iniciar examinando os dados no conjunto de dados (dataset).\n"
   ]
  },
  {
   "cell_type": "markdown",
   "id": "bbe87ca5",
   "metadata": {},
   "source": [
    "Primeiro vamos importar o pandas e definir algumas opções de exibição padrão."
   ]
  },
  {
   "cell_type": "code",
   "execution_count": 59,
   "id": "eeaee0aa",
   "metadata": {},
   "outputs": [],
   "source": [
    "import pandas as pd\n",
    "\n",
    "pd.set_option('display.max_rows', 500)\n",
    "pd.set_option('display.max_columns', 500)\n",
    "pd.set_option('display.width', 1000)"
   ]
  },
  {
   "cell_type": "markdown",
   "id": "b97fd793",
   "metadata": {},
   "source": [
    "Em seguida, carregaremos o conjunto de dados (dataset) em um DataFrame pandas.\n",
    "\n",
    "Os dados não contêm um cabeçalho, portanto, definiremos esses nomes de coluna em uma variável nomeada `nome_colunas` para os atributos listados na descrição do conjunto de dados (dataset)."
   ]
  },
  {
   "cell_type": "code",
   "execution_count": 60,
   "id": "8f71b6e0",
   "metadata": {},
   "outputs": [],
   "source": [
    "data_file='abalone.csv'\n",
    "nome_colunas =['sexo','comprimento','diametro','altura','peso_total','peso_descascado', 'peso_visceras','peso_casca','anéis']\n",
    "\n",
    "df_animal = pd.read_csv(data_file,',',names = nome_colunas ,na_values=\"?\",  header=None)"
   ]
  },
  {
   "cell_type": "markdown",
   "id": "00f53aae",
   "metadata": {},
   "source": [
    "Primeiro, para ver o número de linhas (instâncias) e colunas (componentes (features)), usaremos o método `shape`."
   ]
  },
  {
   "cell_type": "code",
   "execution_count": 61,
   "id": "cf88e2cd",
   "metadata": {},
   "outputs": [
    {
     "data": {
      "text/plain": [
       "(4177, 9)"
      ]
     },
     "execution_count": 61,
     "metadata": {},
     "output_type": "execute_result"
    }
   ],
   "source": [
    "df_animal.shape"
   ]
  },
  {
   "cell_type": "code",
   "execution_count": 62,
   "id": "ad155550",
   "metadata": {},
   "outputs": [
    {
     "data": {
      "text/html": [
       "<div>\n",
       "<style scoped>\n",
       "    .dataframe tbody tr th:only-of-type {\n",
       "        vertical-align: middle;\n",
       "    }\n",
       "\n",
       "    .dataframe tbody tr th {\n",
       "        vertical-align: top;\n",
       "    }\n",
       "\n",
       "    .dataframe thead th {\n",
       "        text-align: right;\n",
       "    }\n",
       "</style>\n",
       "<table border=\"1\" class=\"dataframe\">\n",
       "  <thead>\n",
       "    <tr style=\"text-align: right;\">\n",
       "      <th></th>\n",
       "      <th>sexo</th>\n",
       "      <th>comprimento</th>\n",
       "      <th>diametro</th>\n",
       "      <th>altura</th>\n",
       "      <th>peso_total</th>\n",
       "      <th>peso_descascado</th>\n",
       "      <th>peso_visceras</th>\n",
       "      <th>peso_casca</th>\n",
       "      <th>anéis</th>\n",
       "    </tr>\n",
       "  </thead>\n",
       "  <tbody>\n",
       "    <tr>\n",
       "      <th>0</th>\n",
       "      <td>M</td>\n",
       "      <td>0.455</td>\n",
       "      <td>0.365</td>\n",
       "      <td>0.095</td>\n",
       "      <td>0.5140</td>\n",
       "      <td>0.2245</td>\n",
       "      <td>0.1010</td>\n",
       "      <td>0.150</td>\n",
       "      <td>15</td>\n",
       "    </tr>\n",
       "    <tr>\n",
       "      <th>1</th>\n",
       "      <td>M</td>\n",
       "      <td>0.350</td>\n",
       "      <td>0.265</td>\n",
       "      <td>0.090</td>\n",
       "      <td>0.2255</td>\n",
       "      <td>0.0995</td>\n",
       "      <td>0.0485</td>\n",
       "      <td>0.070</td>\n",
       "      <td>7</td>\n",
       "    </tr>\n",
       "    <tr>\n",
       "      <th>2</th>\n",
       "      <td>F</td>\n",
       "      <td>0.530</td>\n",
       "      <td>0.420</td>\n",
       "      <td>0.135</td>\n",
       "      <td>0.6770</td>\n",
       "      <td>0.2565</td>\n",
       "      <td>0.1415</td>\n",
       "      <td>0.210</td>\n",
       "      <td>9</td>\n",
       "    </tr>\n",
       "    <tr>\n",
       "      <th>3</th>\n",
       "      <td>M</td>\n",
       "      <td>0.440</td>\n",
       "      <td>0.365</td>\n",
       "      <td>0.125</td>\n",
       "      <td>0.5160</td>\n",
       "      <td>0.2155</td>\n",
       "      <td>0.1140</td>\n",
       "      <td>0.155</td>\n",
       "      <td>10</td>\n",
       "    </tr>\n",
       "    <tr>\n",
       "      <th>4</th>\n",
       "      <td>I</td>\n",
       "      <td>0.330</td>\n",
       "      <td>0.255</td>\n",
       "      <td>0.080</td>\n",
       "      <td>0.2050</td>\n",
       "      <td>0.0895</td>\n",
       "      <td>0.0395</td>\n",
       "      <td>0.055</td>\n",
       "      <td>7</td>\n",
       "    </tr>\n",
       "  </tbody>\n",
       "</table>\n",
       "</div>"
      ],
      "text/plain": [
       "  sexo  comprimento  diametro  altura  peso_total  peso_descascado  peso_visceras  peso_casca  anéis\n",
       "0    M        0.455     0.365   0.095      0.5140           0.2245         0.1010       0.150     15\n",
       "1    M        0.350     0.265   0.090      0.2255           0.0995         0.0485       0.070      7\n",
       "2    F        0.530     0.420   0.135      0.6770           0.2565         0.1415       0.210      9\n",
       "3    M        0.440     0.365   0.125      0.5160           0.2155         0.1140       0.155     10\n",
       "4    I        0.330     0.255   0.080      0.2050           0.0895         0.0395       0.055      7"
      ]
     },
     "execution_count": 62,
     "metadata": {},
     "output_type": "execute_result"
    }
   ],
   "source": [
    "df_animal.head(5)"
   ]
  },
  {
   "cell_type": "markdown",
   "id": "a40b8fce",
   "metadata": {},
   "source": [
    "# Etapa 2: Preparação dos dados"
   ]
  },
  {
   "cell_type": "code",
   "execution_count": 63,
   "id": "8d12a2fb",
   "metadata": {},
   "outputs": [
    {
     "data": {
      "text/plain": [
       "M    1528\n",
       "I    1342\n",
       "F    1307\n",
       "Name: sexo, dtype: int64"
      ]
     },
     "execution_count": 63,
     "metadata": {},
     "output_type": "execute_result"
    }
   ],
   "source": [
    "df_animal['sexo'].value_counts()"
   ]
  },
  {
   "cell_type": "markdown",
   "id": "68944f15",
   "metadata": {},
   "source": [
    "Vamos alterar o sexo para **Macho = 1** e **não Macho para = 0**"
   ]
  },
  {
   "cell_type": "code",
   "execution_count": 64,
   "id": "5cf1e1f5",
   "metadata": {},
   "outputs": [],
   "source": [
    "sexo_mapper = {\"M\": 1,\n",
    "                \"F\": 0,\n",
    "                \"I\": 0\n",
    "               }"
   ]
  },
  {
   "cell_type": "code",
   "execution_count": 65,
   "id": "07f6f898",
   "metadata": {},
   "outputs": [],
   "source": [
    "df_animal['sexo'] = df_animal[\"sexo\"].replace(sexo_mapper)"
   ]
  },
  {
   "cell_type": "code",
   "execution_count": 66,
   "id": "de163f53",
   "metadata": {},
   "outputs": [
    {
     "data": {
      "text/plain": [
       "0    2649\n",
       "1    1528\n",
       "Name: sexo, dtype: int64"
      ]
     },
     "execution_count": 66,
     "metadata": {},
     "output_type": "execute_result"
    }
   ],
   "source": [
    "df_animal['sexo'].value_counts()"
   ]
  },
  {
   "cell_type": "code",
   "execution_count": 67,
   "id": "cced9ca7",
   "metadata": {},
   "outputs": [
    {
     "data": {
      "text/html": [
       "<div>\n",
       "<style scoped>\n",
       "    .dataframe tbody tr th:only-of-type {\n",
       "        vertical-align: middle;\n",
       "    }\n",
       "\n",
       "    .dataframe tbody tr th {\n",
       "        vertical-align: top;\n",
       "    }\n",
       "\n",
       "    .dataframe thead th {\n",
       "        text-align: right;\n",
       "    }\n",
       "</style>\n",
       "<table border=\"1\" class=\"dataframe\">\n",
       "  <thead>\n",
       "    <tr style=\"text-align: right;\">\n",
       "      <th></th>\n",
       "      <th>sexo</th>\n",
       "      <th>comprimento</th>\n",
       "      <th>diametro</th>\n",
       "      <th>altura</th>\n",
       "      <th>peso_total</th>\n",
       "      <th>peso_descascado</th>\n",
       "      <th>peso_visceras</th>\n",
       "      <th>peso_casca</th>\n",
       "      <th>anéis</th>\n",
       "    </tr>\n",
       "  </thead>\n",
       "  <tbody>\n",
       "    <tr>\n",
       "      <th>0</th>\n",
       "      <td>1</td>\n",
       "      <td>0.455</td>\n",
       "      <td>0.365</td>\n",
       "      <td>0.095</td>\n",
       "      <td>0.5140</td>\n",
       "      <td>0.2245</td>\n",
       "      <td>0.1010</td>\n",
       "      <td>0.150</td>\n",
       "      <td>15</td>\n",
       "    </tr>\n",
       "    <tr>\n",
       "      <th>1</th>\n",
       "      <td>1</td>\n",
       "      <td>0.350</td>\n",
       "      <td>0.265</td>\n",
       "      <td>0.090</td>\n",
       "      <td>0.2255</td>\n",
       "      <td>0.0995</td>\n",
       "      <td>0.0485</td>\n",
       "      <td>0.070</td>\n",
       "      <td>7</td>\n",
       "    </tr>\n",
       "    <tr>\n",
       "      <th>2</th>\n",
       "      <td>0</td>\n",
       "      <td>0.530</td>\n",
       "      <td>0.420</td>\n",
       "      <td>0.135</td>\n",
       "      <td>0.6770</td>\n",
       "      <td>0.2565</td>\n",
       "      <td>0.1415</td>\n",
       "      <td>0.210</td>\n",
       "      <td>9</td>\n",
       "    </tr>\n",
       "    <tr>\n",
       "      <th>3</th>\n",
       "      <td>1</td>\n",
       "      <td>0.440</td>\n",
       "      <td>0.365</td>\n",
       "      <td>0.125</td>\n",
       "      <td>0.5160</td>\n",
       "      <td>0.2155</td>\n",
       "      <td>0.1140</td>\n",
       "      <td>0.155</td>\n",
       "      <td>10</td>\n",
       "    </tr>\n",
       "    <tr>\n",
       "      <th>4</th>\n",
       "      <td>0</td>\n",
       "      <td>0.330</td>\n",
       "      <td>0.255</td>\n",
       "      <td>0.080</td>\n",
       "      <td>0.2050</td>\n",
       "      <td>0.0895</td>\n",
       "      <td>0.0395</td>\n",
       "      <td>0.055</td>\n",
       "      <td>7</td>\n",
       "    </tr>\n",
       "  </tbody>\n",
       "</table>\n",
       "</div>"
      ],
      "text/plain": [
       "   sexo  comprimento  diametro  altura  peso_total  peso_descascado  peso_visceras  peso_casca  anéis\n",
       "0     1        0.455     0.365   0.095      0.5140           0.2245         0.1010       0.150     15\n",
       "1     1        0.350     0.265   0.090      0.2255           0.0995         0.0485       0.070      7\n",
       "2     0        0.530     0.420   0.135      0.6770           0.2565         0.1415       0.210      9\n",
       "3     1        0.440     0.365   0.125      0.5160           0.2155         0.1140       0.155     10\n",
       "4     0        0.330     0.255   0.080      0.2050           0.0895         0.0395       0.055      7"
      ]
     },
     "execution_count": 67,
     "metadata": {},
     "output_type": "execute_result"
    }
   ],
   "source": [
    "df_animal.head(5)"
   ]
  },
  {
   "cell_type": "markdown",
   "id": "68224c16",
   "metadata": {},
   "source": [
    "Também vamos alterar os **anéis** dividindo por **100**"
   ]
  },
  {
   "cell_type": "code",
   "execution_count": 68,
   "id": "45c75d21",
   "metadata": {},
   "outputs": [],
   "source": [
    "df_animal['anéis'] = df_animal['anéis'].div(100).round(2)"
   ]
  },
  {
   "cell_type": "code",
   "execution_count": 69,
   "id": "cb66024e",
   "metadata": {},
   "outputs": [
    {
     "data": {
      "text/html": [
       "<div>\n",
       "<style scoped>\n",
       "    .dataframe tbody tr th:only-of-type {\n",
       "        vertical-align: middle;\n",
       "    }\n",
       "\n",
       "    .dataframe tbody tr th {\n",
       "        vertical-align: top;\n",
       "    }\n",
       "\n",
       "    .dataframe thead th {\n",
       "        text-align: right;\n",
       "    }\n",
       "</style>\n",
       "<table border=\"1\" class=\"dataframe\">\n",
       "  <thead>\n",
       "    <tr style=\"text-align: right;\">\n",
       "      <th></th>\n",
       "      <th>sexo</th>\n",
       "      <th>comprimento</th>\n",
       "      <th>diametro</th>\n",
       "      <th>altura</th>\n",
       "      <th>peso_total</th>\n",
       "      <th>peso_descascado</th>\n",
       "      <th>peso_visceras</th>\n",
       "      <th>peso_casca</th>\n",
       "      <th>anéis</th>\n",
       "    </tr>\n",
       "  </thead>\n",
       "  <tbody>\n",
       "    <tr>\n",
       "      <th>0</th>\n",
       "      <td>1</td>\n",
       "      <td>0.455</td>\n",
       "      <td>0.365</td>\n",
       "      <td>0.095</td>\n",
       "      <td>0.5140</td>\n",
       "      <td>0.2245</td>\n",
       "      <td>0.1010</td>\n",
       "      <td>0.150</td>\n",
       "      <td>0.15</td>\n",
       "    </tr>\n",
       "    <tr>\n",
       "      <th>1</th>\n",
       "      <td>1</td>\n",
       "      <td>0.350</td>\n",
       "      <td>0.265</td>\n",
       "      <td>0.090</td>\n",
       "      <td>0.2255</td>\n",
       "      <td>0.0995</td>\n",
       "      <td>0.0485</td>\n",
       "      <td>0.070</td>\n",
       "      <td>0.07</td>\n",
       "    </tr>\n",
       "    <tr>\n",
       "      <th>2</th>\n",
       "      <td>0</td>\n",
       "      <td>0.530</td>\n",
       "      <td>0.420</td>\n",
       "      <td>0.135</td>\n",
       "      <td>0.6770</td>\n",
       "      <td>0.2565</td>\n",
       "      <td>0.1415</td>\n",
       "      <td>0.210</td>\n",
       "      <td>0.09</td>\n",
       "    </tr>\n",
       "    <tr>\n",
       "      <th>3</th>\n",
       "      <td>1</td>\n",
       "      <td>0.440</td>\n",
       "      <td>0.365</td>\n",
       "      <td>0.125</td>\n",
       "      <td>0.5160</td>\n",
       "      <td>0.2155</td>\n",
       "      <td>0.1140</td>\n",
       "      <td>0.155</td>\n",
       "      <td>0.10</td>\n",
       "    </tr>\n",
       "    <tr>\n",
       "      <th>4</th>\n",
       "      <td>0</td>\n",
       "      <td>0.330</td>\n",
       "      <td>0.255</td>\n",
       "      <td>0.080</td>\n",
       "      <td>0.2050</td>\n",
       "      <td>0.0895</td>\n",
       "      <td>0.0395</td>\n",
       "      <td>0.055</td>\n",
       "      <td>0.07</td>\n",
       "    </tr>\n",
       "  </tbody>\n",
       "</table>\n",
       "</div>"
      ],
      "text/plain": [
       "   sexo  comprimento  diametro  altura  peso_total  peso_descascado  peso_visceras  peso_casca  anéis\n",
       "0     1        0.455     0.365   0.095      0.5140           0.2245         0.1010       0.150   0.15\n",
       "1     1        0.350     0.265   0.090      0.2255           0.0995         0.0485       0.070   0.07\n",
       "2     0        0.530     0.420   0.135      0.6770           0.2565         0.1415       0.210   0.09\n",
       "3     1        0.440     0.365   0.125      0.5160           0.2155         0.1140       0.155   0.10\n",
       "4     0        0.330     0.255   0.080      0.2050           0.0895         0.0395       0.055   0.07"
      ]
     },
     "execution_count": 69,
     "metadata": {},
     "output_type": "execute_result"
    }
   ],
   "source": [
    "df_animal.head(5)"
   ]
  },
  {
   "cell_type": "markdown",
   "id": "3f819123",
   "metadata": {},
   "source": [
    "## Divisão de dados"
   ]
  },
  {
   "cell_type": "markdown",
   "id": "6ea63ba1",
   "metadata": {},
   "source": [
    "Iremos dividir o conjunto de dados em dois. Usaremos um conjunto de dados para treinamento e dividiremos o outro novamente para uso com validação e teste."
   ]
  },
  {
   "cell_type": "code",
   "execution_count": 70,
   "id": "81a584bc",
   "metadata": {},
   "outputs": [],
   "source": [
    "from sklearn.model_selection import train_test_split\n",
    "train, test_and_validate = train_test_split(df_animal, test_size=0.2, random_state=30, stratify=df_animal['sexo'])"
   ]
  },
  {
   "cell_type": "markdown",
   "id": "1ab5c6de",
   "metadata": {},
   "source": [
    "Em seguida, dividimos o conjunto de dados *test_and_validate* em duas partes iguais."
   ]
  },
  {
   "cell_type": "code",
   "execution_count": 71,
   "id": "5f92aae2",
   "metadata": {},
   "outputs": [],
   "source": [
    "test, validate = train_test_split(test_and_validate, test_size=0.5, random_state=30, stratify=test_and_validate['sexo'])"
   ]
  },
  {
   "cell_type": "markdown",
   "id": "3ae1dd14",
   "metadata": {},
   "source": [
    "Os três conjuntos de dados."
   ]
  },
  {
   "cell_type": "code",
   "execution_count": 72,
   "id": "01f09179",
   "metadata": {},
   "outputs": [
    {
     "name": "stdout",
     "output_type": "stream",
     "text": [
      "(3341, 9)\n",
      "(418, 9)\n",
      "(418, 9)\n"
     ]
    }
   ],
   "source": [
    "print(train.shape)\n",
    "print(test.shape)\n",
    "print(validate.shape)"
   ]
  },
  {
   "cell_type": "markdown",
   "id": "ecb64b4f",
   "metadata": {},
   "source": [
    "Distribuição:"
   ]
  },
  {
   "cell_type": "code",
   "execution_count": 73,
   "id": "690b3d04",
   "metadata": {},
   "outputs": [
    {
     "name": "stdout",
     "output_type": "stream",
     "text": [
      "0    2119\n",
      "1    1222\n",
      "Name: sexo, dtype: int64\n",
      "0    265\n",
      "1    153\n",
      "Name: sexo, dtype: int64\n",
      "0    265\n",
      "1    153\n",
      "Name: sexo, dtype: int64\n"
     ]
    }
   ],
   "source": [
    "print(train['sexo'].value_counts())\n",
    "print(test['sexo'].value_counts())\n",
    "print(validate['sexo'].value_counts())"
   ]
  },
  {
   "cell_type": "markdown",
   "id": "c07bae09",
   "metadata": {},
   "source": [
    "## Criando o bucket e Fazendo upload para o S3"
   ]
  },
  {
   "cell_type": "code",
   "execution_count": 30,
   "id": "59d5feaa",
   "metadata": {},
   "outputs": [],
   "source": [
    "import os\n",
    "import boto3\n",
    "import io\n",
    "\n",
    "bucket='lscheiner-lab-python'\n",
    "\n",
    "prefix='lab4'\n",
    "\n",
    "train_file='abalone_train.csv'\n",
    "test_file='abalone_test.csv'\n",
    "validate_file='abalone_validate.csv'\n",
    "\n",
    "# cria o bucket\n",
    "s3 = boto3.client(\"s3\")\n",
    "s3.create_bucket(Bucket=bucket) \n",
    "\n",
    "s3_resource = boto3.Session().resource('s3')\n",
    "def upload_s3_csv(filename, folder, dataframe):\n",
    "    csv_buffer = io.StringIO()\n",
    "    dataframe.to_csv(csv_buffer, header=False, index=False)\n",
    "    s3_resource.Bucket(bucket).Object(os.path.join(prefix, folder, filename)).put(Body=csv_buffer.getvalue())"
   ]
  },
  {
   "cell_type": "markdown",
   "id": "bc470b42",
   "metadata": {},
   "source": [
    "Fazendo upload:"
   ]
  },
  {
   "cell_type": "code",
   "execution_count": 31,
   "id": "ed88fcb6",
   "metadata": {},
   "outputs": [],
   "source": [
    "upload_s3_csv(train_file, 'train', train)\n",
    "upload_s3_csv(test_file, 'test', test)\n",
    "upload_s3_csv(validate_file, 'validate', validate)"
   ]
  },
  {
   "cell_type": "markdown",
   "id": "0c62d0c9",
   "metadata": {},
   "source": [
    "# Etapa 3: Treinar o modelo\n"
   ]
  },
  {
   "cell_type": "markdown",
   "id": "9d64cbfc",
   "metadata": {},
   "source": [
    "Obter o URI do contêiner XGBoost."
   ]
  },
  {
   "cell_type": "code",
   "execution_count": 40,
   "id": "04f1a9b8",
   "metadata": {},
   "outputs": [],
   "source": [
    "from sagemaker.image_uris import retrieve\n",
    "container = retrieve('xgboost',boto3.Session().region_name,'1.0-1')"
   ]
  },
  {
   "cell_type": "markdown",
   "id": "ea29e17e",
   "metadata": {},
   "source": [
    "Definindo valores padrão."
   ]
  },
  {
   "cell_type": "code",
   "execution_count": 41,
   "id": "9bc3214f",
   "metadata": {},
   "outputs": [],
   "source": [
    "hyperparams={\"num_round\":\"30\",\n",
    "             \"eval_metric\": \"auc\",\n",
    "             \"objective\": \"binary:logistic\"}"
   ]
  },
  {
   "cell_type": "code",
   "execution_count": 42,
   "id": "ed5b0854",
   "metadata": {},
   "outputs": [],
   "source": [
    "import sagemaker\n",
    "s3_output_location=\"s3://{}/{}/output/\".format(bucket,prefix)\n",
    "train_instance_count = 1\n",
    "train_instance_type = 'ml.m4.xlarge'\n",
    "\n",
    "xgb_model=sagemaker.estimator.Estimator(container,\n",
    "                                       sagemaker.get_execution_role(),\n",
    "                                       instance_count=train_instance_count,\n",
    "                                       instance_type=train_instance_type,\n",
    "                                       output_path=s3_output_location,\n",
    "                                        hyperparameters=hyperparams,\n",
    "                                        sagemaker_session=sagemaker.Session())"
   ]
  },
  {
   "cell_type": "markdown",
   "id": "20382a66",
   "metadata": {},
   "source": [
    "Para treinamento, *train_channel* e *validate_channel* serão usados."
   ]
  },
  {
   "cell_type": "code",
   "execution_count": 43,
   "id": "c157c017",
   "metadata": {},
   "outputs": [],
   "source": [
    "train_channel = sagemaker.inputs.TrainingInput(\n",
    "    \"s3://{}/{}/train/\".format(bucket,prefix,train_file),\n",
    "    content_type='text/csv')\n",
    "\n",
    "validate_channel = sagemaker.inputs.TrainingInput(\n",
    "    \"s3://{}/{}/validate/\".format(bucket,prefix,validate_file),\n",
    "    content_type='text/csv')\n",
    "\n",
    "data_channels = {'train': train_channel, 'validation': validate_channel}"
   ]
  },
  {
   "cell_type": "markdown",
   "id": "a34749e3",
   "metadata": {},
   "source": [
    "Iniciar o treinamento."
   ]
  },
  {
   "cell_type": "code",
   "execution_count": 44,
   "id": "c4b34703",
   "metadata": {},
   "outputs": [
    {
     "name": "stdout",
     "output_type": "stream",
     "text": [
      "\n",
      "2021-12-19 03:29:08 Starting - Starting the training job\n",
      "2021-12-19 03:29:11 Starting - Launching requested ML instances............\n",
      "2021-12-19 03:30:18 Starting - Preparing the instances for training...................\n",
      "2021-12-19 03:31:57 Downloading - Downloading input data.\n",
      "2021-12-19 03:32:09 Training - Downloading the training image.......\n",
      "2021-12-19 03:32:49 Training - Training image download completed. Training in progress........\n",
      "2021-12-19 03:33:26 Uploading - Uploading generated training model\n",
      "2021-12-19 03:33:35 Completed - Training job completed\n"
     ]
    }
   ],
   "source": [
    "xgb_model.fit(inputs=data_channels, logs=False)"
   ]
  },
  {
   "cell_type": "markdown",
   "id": "b05536f2",
   "metadata": {},
   "source": [
    "# Etapa 4: Hospedagem do modelo"
   ]
  },
  {
   "cell_type": "code",
   "execution_count": null,
   "id": "1196fdf0",
   "metadata": {},
   "outputs": [
    {
     "name": "stdout",
     "output_type": "stream",
     "text": [
      "------"
     ]
    }
   ],
   "source": [
    "xgb_predictor = xgb_model.deploy(initial_instance_count=1,\n",
    "                serializer = sagemaker.serializers.CSVSerializer(),\n",
    "                instance_type='ml.m4.xlarge')"
   ]
  },
  {
   "cell_type": "markdown",
   "id": "0d74c2fd",
   "metadata": {},
   "source": [
    "# Etapa 5: Executar predições\n",
    "\n",
    "Agora que temos um modelo implantado, executaremos algumas predições.\n",
    "\n",
    "Dados de teste:"
   ]
  },
  {
   "cell_type": "code",
   "execution_count": 75,
   "id": "d342341d",
   "metadata": {},
   "outputs": [
    {
     "data": {
      "text/html": [
       "<div>\n",
       "<style scoped>\n",
       "    .dataframe tbody tr th:only-of-type {\n",
       "        vertical-align: middle;\n",
       "    }\n",
       "\n",
       "    .dataframe tbody tr th {\n",
       "        vertical-align: top;\n",
       "    }\n",
       "\n",
       "    .dataframe thead th {\n",
       "        text-align: right;\n",
       "    }\n",
       "</style>\n",
       "<table border=\"1\" class=\"dataframe\">\n",
       "  <thead>\n",
       "    <tr style=\"text-align: right;\">\n",
       "      <th></th>\n",
       "      <th>sexo</th>\n",
       "      <th>comprimento</th>\n",
       "      <th>diametro</th>\n",
       "      <th>altura</th>\n",
       "      <th>peso_total</th>\n",
       "      <th>peso_descascado</th>\n",
       "      <th>peso_visceras</th>\n",
       "      <th>peso_casca</th>\n",
       "      <th>anéis</th>\n",
       "    </tr>\n",
       "  </thead>\n",
       "  <tbody>\n",
       "    <tr>\n",
       "      <th>291</th>\n",
       "      <td>0</td>\n",
       "      <td>0.565</td>\n",
       "      <td>0.505</td>\n",
       "      <td>0.210</td>\n",
       "      <td>1.2765</td>\n",
       "      <td>0.5010</td>\n",
       "      <td>0.2790</td>\n",
       "      <td>0.3550</td>\n",
       "      <td>0.12</td>\n",
       "    </tr>\n",
       "    <tr>\n",
       "      <th>4025</th>\n",
       "      <td>0</td>\n",
       "      <td>0.330</td>\n",
       "      <td>0.260</td>\n",
       "      <td>0.085</td>\n",
       "      <td>0.1965</td>\n",
       "      <td>0.0915</td>\n",
       "      <td>0.0425</td>\n",
       "      <td>0.0550</td>\n",
       "      <td>0.07</td>\n",
       "    </tr>\n",
       "    <tr>\n",
       "      <th>2870</th>\n",
       "      <td>0</td>\n",
       "      <td>0.370</td>\n",
       "      <td>0.270</td>\n",
       "      <td>0.090</td>\n",
       "      <td>0.1855</td>\n",
       "      <td>0.0700</td>\n",
       "      <td>0.0425</td>\n",
       "      <td>0.0650</td>\n",
       "      <td>0.07</td>\n",
       "    </tr>\n",
       "    <tr>\n",
       "      <th>919</th>\n",
       "      <td>0</td>\n",
       "      <td>0.410</td>\n",
       "      <td>0.310</td>\n",
       "      <td>0.090</td>\n",
       "      <td>0.3335</td>\n",
       "      <td>0.1635</td>\n",
       "      <td>0.0610</td>\n",
       "      <td>0.0910</td>\n",
       "      <td>0.06</td>\n",
       "    </tr>\n",
       "    <tr>\n",
       "      <th>1137</th>\n",
       "      <td>0</td>\n",
       "      <td>0.575</td>\n",
       "      <td>0.450</td>\n",
       "      <td>0.160</td>\n",
       "      <td>1.0680</td>\n",
       "      <td>0.5560</td>\n",
       "      <td>0.2140</td>\n",
       "      <td>0.2575</td>\n",
       "      <td>0.10</td>\n",
       "    </tr>\n",
       "  </tbody>\n",
       "</table>\n",
       "</div>"
      ],
      "text/plain": [
       "      sexo  comprimento  diametro  altura  peso_total  peso_descascado  peso_visceras  peso_casca  anéis\n",
       "291      0        0.565     0.505   0.210      1.2765           0.5010         0.2790      0.3550   0.12\n",
       "4025     0        0.330     0.260   0.085      0.1965           0.0915         0.0425      0.0550   0.07\n",
       "2870     0        0.370     0.270   0.090      0.1855           0.0700         0.0425      0.0650   0.07\n",
       "919      0        0.410     0.310   0.090      0.3335           0.1635         0.0610      0.0910   0.06\n",
       "1137     0        0.575     0.450   0.160      1.0680           0.5560         0.2140      0.2575   0.10"
      ]
     },
     "execution_count": 75,
     "metadata": {},
     "output_type": "execute_result"
    }
   ],
   "source": [
    "test.head(5)"
   ]
  },
  {
   "cell_type": "markdown",
   "id": "0451aa6c",
   "metadata": {},
   "source": [
    "Removendo a primeira coluna para test:"
   ]
  },
  {
   "cell_type": "code",
   "execution_count": 76,
   "id": "c2d401d7",
   "metadata": {},
   "outputs": [
    {
     "data": {
      "text/html": [
       "<div>\n",
       "<style scoped>\n",
       "    .dataframe tbody tr th:only-of-type {\n",
       "        vertical-align: middle;\n",
       "    }\n",
       "\n",
       "    .dataframe tbody tr th {\n",
       "        vertical-align: top;\n",
       "    }\n",
       "\n",
       "    .dataframe thead th {\n",
       "        text-align: right;\n",
       "    }\n",
       "</style>\n",
       "<table border=\"1\" class=\"dataframe\">\n",
       "  <thead>\n",
       "    <tr style=\"text-align: right;\">\n",
       "      <th></th>\n",
       "      <th>comprimento</th>\n",
       "      <th>diametro</th>\n",
       "      <th>altura</th>\n",
       "      <th>peso_total</th>\n",
       "      <th>peso_descascado</th>\n",
       "      <th>peso_visceras</th>\n",
       "      <th>peso_casca</th>\n",
       "      <th>anéis</th>\n",
       "    </tr>\n",
       "  </thead>\n",
       "  <tbody>\n",
       "    <tr>\n",
       "      <th>291</th>\n",
       "      <td>0.565</td>\n",
       "      <td>0.505</td>\n",
       "      <td>0.21</td>\n",
       "      <td>1.2765</td>\n",
       "      <td>0.501</td>\n",
       "      <td>0.279</td>\n",
       "      <td>0.355</td>\n",
       "      <td>0.12</td>\n",
       "    </tr>\n",
       "  </tbody>\n",
       "</table>\n",
       "</div>"
      ],
      "text/plain": [
       "     comprimento  diametro  altura  peso_total  peso_descascado  peso_visceras  peso_casca  anéis\n",
       "291        0.565     0.505    0.21      1.2765            0.501          0.279       0.355   0.12"
      ]
     },
     "execution_count": 76,
     "metadata": {},
     "output_type": "execute_result"
    }
   ],
   "source": [
    "row = test.iloc[:1,1:]\n",
    "row.head()"
   ]
  },
  {
   "cell_type": "markdown",
   "id": "c3aedc87",
   "metadata": {},
   "source": [
    "Convertendo em CSV"
   ]
  },
  {
   "cell_type": "code",
   "execution_count": 77,
   "id": "d0751134",
   "metadata": {},
   "outputs": [
    {
     "name": "stdout",
     "output_type": "stream",
     "text": [
      "0.565,0.505,0.21,1.2765,0.501,0.27899999999999997,0.355,0.12\n",
      "\n"
     ]
    }
   ],
   "source": [
    "batch_X_csv_buffer = io.StringIO()\n",
    "row.to_csv(batch_X_csv_buffer, header=False, index=False)\n",
    "test_row = batch_X_csv_buffer.getvalue()\n",
    "print(test_row)"
   ]
  },
  {
   "cell_type": "markdown",
   "id": "edee989f",
   "metadata": {},
   "source": [
    "Executando uma predição."
   ]
  },
  {
   "cell_type": "code",
   "execution_count": 78,
   "id": "a88fcd7d",
   "metadata": {},
   "outputs": [
    {
     "data": {
      "text/plain": [
       "b'0.6691997647285461'"
      ]
     },
     "execution_count": 78,
     "metadata": {},
     "output_type": "execute_result"
    }
   ],
   "source": [
    "xgb_predictor.predict(test_row)"
   ]
  },
  {
   "cell_type": "markdown",
   "id": "39425be0",
   "metadata": {},
   "source": [
    "Chance de **66%** de ser macho."
   ]
  },
  {
   "cell_type": "markdown",
   "id": "a2090e1e",
   "metadata": {},
   "source": [
    "# Etapa 6: Encerrar o modelo implantado"
   ]
  },
  {
   "cell_type": "code",
   "execution_count": 80,
   "id": "9463893a",
   "metadata": {},
   "outputs": [],
   "source": [
    "xgb_predictor.delete_endpoint(delete_endpoint_config=True)"
   ]
  },
  {
   "cell_type": "markdown",
   "id": "290b3afb",
   "metadata": {},
   "source": [
    "# Etapa 7: Realizar uma transformação em lote (batch)\n"
   ]
  },
  {
   "cell_type": "code",
   "execution_count": 81,
   "id": "aa699bb8",
   "metadata": {},
   "outputs": [
    {
     "data": {
      "text/html": [
       "<div>\n",
       "<style scoped>\n",
       "    .dataframe tbody tr th:only-of-type {\n",
       "        vertical-align: middle;\n",
       "    }\n",
       "\n",
       "    .dataframe tbody tr th {\n",
       "        vertical-align: top;\n",
       "    }\n",
       "\n",
       "    .dataframe thead th {\n",
       "        text-align: right;\n",
       "    }\n",
       "</style>\n",
       "<table border=\"1\" class=\"dataframe\">\n",
       "  <thead>\n",
       "    <tr style=\"text-align: right;\">\n",
       "      <th></th>\n",
       "      <th>comprimento</th>\n",
       "      <th>diametro</th>\n",
       "      <th>altura</th>\n",
       "      <th>peso_total</th>\n",
       "      <th>peso_descascado</th>\n",
       "      <th>peso_visceras</th>\n",
       "      <th>peso_casca</th>\n",
       "      <th>anéis</th>\n",
       "    </tr>\n",
       "  </thead>\n",
       "  <tbody>\n",
       "    <tr>\n",
       "      <th>291</th>\n",
       "      <td>0.565</td>\n",
       "      <td>0.505</td>\n",
       "      <td>0.210</td>\n",
       "      <td>1.2765</td>\n",
       "      <td>0.5010</td>\n",
       "      <td>0.2790</td>\n",
       "      <td>0.3550</td>\n",
       "      <td>0.12</td>\n",
       "    </tr>\n",
       "    <tr>\n",
       "      <th>4025</th>\n",
       "      <td>0.330</td>\n",
       "      <td>0.260</td>\n",
       "      <td>0.085</td>\n",
       "      <td>0.1965</td>\n",
       "      <td>0.0915</td>\n",
       "      <td>0.0425</td>\n",
       "      <td>0.0550</td>\n",
       "      <td>0.07</td>\n",
       "    </tr>\n",
       "    <tr>\n",
       "      <th>2870</th>\n",
       "      <td>0.370</td>\n",
       "      <td>0.270</td>\n",
       "      <td>0.090</td>\n",
       "      <td>0.1855</td>\n",
       "      <td>0.0700</td>\n",
       "      <td>0.0425</td>\n",
       "      <td>0.0650</td>\n",
       "      <td>0.07</td>\n",
       "    </tr>\n",
       "    <tr>\n",
       "      <th>919</th>\n",
       "      <td>0.410</td>\n",
       "      <td>0.310</td>\n",
       "      <td>0.090</td>\n",
       "      <td>0.3335</td>\n",
       "      <td>0.1635</td>\n",
       "      <td>0.0610</td>\n",
       "      <td>0.0910</td>\n",
       "      <td>0.06</td>\n",
       "    </tr>\n",
       "    <tr>\n",
       "      <th>1137</th>\n",
       "      <td>0.575</td>\n",
       "      <td>0.450</td>\n",
       "      <td>0.160</td>\n",
       "      <td>1.0680</td>\n",
       "      <td>0.5560</td>\n",
       "      <td>0.2140</td>\n",
       "      <td>0.2575</td>\n",
       "      <td>0.10</td>\n",
       "    </tr>\n",
       "  </tbody>\n",
       "</table>\n",
       "</div>"
      ],
      "text/plain": [
       "      comprimento  diametro  altura  peso_total  peso_descascado  peso_visceras  peso_casca  anéis\n",
       "291         0.565     0.505   0.210      1.2765           0.5010         0.2790      0.3550   0.12\n",
       "4025        0.330     0.260   0.085      0.1965           0.0915         0.0425      0.0550   0.07\n",
       "2870        0.370     0.270   0.090      0.1855           0.0700         0.0425      0.0650   0.07\n",
       "919         0.410     0.310   0.090      0.3335           0.1635         0.0610      0.0910   0.06\n",
       "1137        0.575     0.450   0.160      1.0680           0.5560         0.2140      0.2575   0.10"
      ]
     },
     "execution_count": 81,
     "metadata": {},
     "output_type": "execute_result"
    }
   ],
   "source": [
    "batch_X = test.iloc[:,1:];\n",
    "batch_X.head()"
   ]
  },
  {
   "cell_type": "markdown",
   "id": "0830553a",
   "metadata": {},
   "source": [
    "Gravando os dados em um arquivo CSV no S3."
   ]
  },
  {
   "cell_type": "code",
   "execution_count": 82,
   "id": "aee9c377",
   "metadata": {},
   "outputs": [],
   "source": [
    "batch_X_file='batch-in.csv'\n",
    "upload_s3_csv(batch_X_file, 'batch-in', batch_X)"
   ]
  },
  {
   "cell_type": "markdown",
   "id": "dabf4748",
   "metadata": {},
   "source": [
    "Configurando o transformer"
   ]
  },
  {
   "cell_type": "code",
   "execution_count": 83,
   "id": "9aaa3b15",
   "metadata": {},
   "outputs": [
    {
     "name": "stdout",
     "output_type": "stream",
     "text": [
      ".................................\n",
      "\u001b[34m[2021-12-19:04:00:21:INFO] No GPUs detected (normal if no gpus installed)\u001b[0m\n",
      "\u001b[34m[2021-12-19:04:00:21:INFO] No GPUs detected (normal if no gpus installed)\u001b[0m\n",
      "\u001b[35m[2021-12-19:04:00:21:INFO] No GPUs detected (normal if no gpus installed)\u001b[0m\n",
      "\u001b[35m[2021-12-19:04:00:21:INFO] No GPUs detected (normal if no gpus installed)\u001b[0m\n",
      "\u001b[34m[2021-12-19:04:00:21:INFO] nginx config: \u001b[0m\n",
      "\u001b[34mworker_processes auto;\u001b[0m\n",
      "\u001b[34mdaemon off;\u001b[0m\n",
      "\u001b[34mpid /tmp/nginx.pid;\u001b[0m\n",
      "\u001b[34merror_log  /dev/stderr;\u001b[0m\n",
      "\u001b[34mworker_rlimit_nofile 4096;\u001b[0m\n",
      "\u001b[34mevents {\n",
      "  worker_connections 2048;\u001b[0m\n",
      "\u001b[34m}\u001b[0m\n",
      "\u001b[35m[2021-12-19:04:00:21:INFO] nginx config: \u001b[0m\n",
      "\u001b[35mworker_processes auto;\u001b[0m\n",
      "\u001b[35mdaemon off;\u001b[0m\n",
      "\u001b[35mpid /tmp/nginx.pid;\u001b[0m\n",
      "\u001b[35merror_log  /dev/stderr;\u001b[0m\n",
      "\u001b[35mworker_rlimit_nofile 4096;\u001b[0m\n",
      "\u001b[35mevents {\n",
      "  worker_connections 2048;\u001b[0m\n",
      "\u001b[35m}\u001b[0m\n",
      "\u001b[34mhttp {\n",
      "  include /etc/nginx/mime.types;\n",
      "  default_type application/octet-stream;\n",
      "  access_log /dev/stdout combined;\n",
      "  upstream gunicorn {\n",
      "    server unix:/tmp/gunicorn.sock;\n",
      "  }\n",
      "  server {\n",
      "    listen 8080 deferred;\n",
      "    client_max_body_size 0;\n",
      "    keepalive_timeout 3;\n",
      "    location ~ ^/(ping|invocations|execution-parameters) {\n",
      "      proxy_set_header X-Forwarded-For $proxy_add_x_forwarded_for;\n",
      "      proxy_set_header Host $http_host;\n",
      "      proxy_redirect off;\n",
      "      proxy_read_timeout 60s;\n",
      "      proxy_pass http://gunicorn;\n",
      "    }\n",
      "    location / {\n",
      "      return 404 \"{}\";\n",
      "    }\n",
      "  }\u001b[0m\n",
      "\u001b[34m}\u001b[0m\n",
      "\u001b[34m[2021-12-19 04:00:21 +0000] [18] [INFO] Starting gunicorn 19.10.0\u001b[0m\n",
      "\u001b[34m[2021-12-19 04:00:21 +0000] [18] [INFO] Listening at: unix:/tmp/gunicorn.sock (18)\u001b[0m\n",
      "\u001b[34m[2021-12-19 04:00:21 +0000] [18] [INFO] Using worker: gevent\u001b[0m\n",
      "\u001b[34m[2021-12-19 04:00:21 +0000] [25] [INFO] Booting worker with pid: 25\u001b[0m\n",
      "\u001b[34m[2021-12-19 04:00:21 +0000] [26] [INFO] Booting worker with pid: 26\u001b[0m\n",
      "\u001b[34m[2021-12-19 04:00:21 +0000] [27] [INFO] Booting worker with pid: 27\u001b[0m\n",
      "\u001b[34m[2021-12-19 04:00:21 +0000] [31] [INFO] Booting worker with pid: 31\u001b[0m\n",
      "\u001b[35mhttp {\n",
      "  include /etc/nginx/mime.types;\n",
      "  default_type application/octet-stream;\n",
      "  access_log /dev/stdout combined;\n",
      "  upstream gunicorn {\n",
      "    server unix:/tmp/gunicorn.sock;\n",
      "  }\n",
      "  server {\n",
      "    listen 8080 deferred;\n",
      "    client_max_body_size 0;\n",
      "    keepalive_timeout 3;\n",
      "    location ~ ^/(ping|invocations|execution-parameters) {\n",
      "      proxy_set_header X-Forwarded-For $proxy_add_x_forwarded_for;\n",
      "      proxy_set_header Host $http_host;\n",
      "      proxy_redirect off;\n",
      "      proxy_read_timeout 60s;\n",
      "      proxy_pass http://gunicorn;\n",
      "    }\n",
      "    location / {\n",
      "      return 404 \"{}\";\n",
      "    }\n",
      "  }\u001b[0m\n",
      "\u001b[35m}\u001b[0m\n",
      "\u001b[35m[2021-12-19 04:00:21 +0000] [18] [INFO] Starting gunicorn 19.10.0\u001b[0m\n",
      "\u001b[35m[2021-12-19 04:00:21 +0000] [18] [INFO] Listening at: unix:/tmp/gunicorn.sock (18)\u001b[0m\n",
      "\u001b[35m[2021-12-19 04:00:21 +0000] [18] [INFO] Using worker: gevent\u001b[0m\n",
      "\u001b[35m[2021-12-19 04:00:21 +0000] [25] [INFO] Booting worker with pid: 25\u001b[0m\n",
      "\u001b[35m[2021-12-19 04:00:21 +0000] [26] [INFO] Booting worker with pid: 26\u001b[0m\n",
      "\u001b[35m[2021-12-19 04:00:21 +0000] [27] [INFO] Booting worker with pid: 27\u001b[0m\n",
      "\u001b[35m[2021-12-19 04:00:21 +0000] [31] [INFO] Booting worker with pid: 31\u001b[0m\n",
      "\u001b[34m[2021-12-19:04:00:27:INFO] No GPUs detected (normal if no gpus installed)\u001b[0m\n",
      "\u001b[34m169.254.255.130 - - [19/Dec/2021:04:00:27 +0000] \"GET /ping HTTP/1.1\" 200 0 \"-\" \"Go-http-client/1.1\"\u001b[0m\n",
      "\u001b[34m[2021-12-19:04:00:27:INFO] No GPUs detected (normal if no gpus installed)\u001b[0m\n",
      "\u001b[34m169.254.255.130 - - [19/Dec/2021:04:00:27 +0000] \"GET /execution-parameters HTTP/1.1\" 200 84 \"-\" \"Go-http-client/1.1\"\u001b[0m\n",
      "\u001b[34m[2021-12-19:04:00:27:INFO] Determined delimiter of CSV input is ','\u001b[0m\n",
      "\u001b[34m169.254.255.130 - - [19/Dec/2021:04:00:27 +0000] \"POST /invocations HTTP/1.1\" 200 8109 \"-\" \"Go-http-client/1.1\"\u001b[0m\n",
      "\u001b[35m[2021-12-19:04:00:27:INFO] No GPUs detected (normal if no gpus installed)\u001b[0m\n",
      "\u001b[35m169.254.255.130 - - [19/Dec/2021:04:00:27 +0000] \"GET /ping HTTP/1.1\" 200 0 \"-\" \"Go-http-client/1.1\"\u001b[0m\n",
      "\u001b[35m[2021-12-19:04:00:27:INFO] No GPUs detected (normal if no gpus installed)\u001b[0m\n",
      "\u001b[35m169.254.255.130 - - [19/Dec/2021:04:00:27 +0000] \"GET /execution-parameters HTTP/1.1\" 200 84 \"-\" \"Go-http-client/1.1\"\u001b[0m\n",
      "\u001b[35m[2021-12-19:04:00:27:INFO] Determined delimiter of CSV input is ','\u001b[0m\n",
      "\u001b[35m169.254.255.130 - - [19/Dec/2021:04:00:27 +0000] \"POST /invocations HTTP/1.1\" 200 8109 \"-\" \"Go-http-client/1.1\"\u001b[0m\n",
      "\u001b[32m2021-12-19T04:00:27.753:[sagemaker logs]: MaxConcurrentTransforms=4, MaxPayloadInMB=6, BatchStrategy=MULTI_RECORD\u001b[0m\n",
      "\u001b[34m[2021-12-19:04:00:21:INFO] No GPUs detected (normal if no gpus installed)\u001b[0m\n",
      "\u001b[34m[2021-12-19:04:00:21:INFO] No GPUs detected (normal if no gpus installed)\u001b[0m\n",
      "\u001b[35m[2021-12-19:04:00:21:INFO] No GPUs detected (normal if no gpus installed)\u001b[0m\n",
      "\u001b[35m[2021-12-19:04:00:21:INFO] No GPUs detected (normal if no gpus installed)\u001b[0m\n",
      "\u001b[34m[2021-12-19:04:00:21:INFO] nginx config: \u001b[0m\n",
      "\u001b[34mworker_processes auto;\u001b[0m\n",
      "\u001b[34mdaemon off;\u001b[0m\n",
      "\u001b[34mpid /tmp/nginx.pid;\u001b[0m\n",
      "\u001b[34merror_log  /dev/stderr;\u001b[0m\n",
      "\u001b[34mworker_rlimit_nofile 4096;\u001b[0m\n",
      "\u001b[34mevents {\n",
      "  worker_connections 2048;\u001b[0m\n",
      "\u001b[34m}\u001b[0m\n",
      "\u001b[35m[2021-12-19:04:00:21:INFO] nginx config: \u001b[0m\n",
      "\u001b[35mworker_processes auto;\u001b[0m\n",
      "\u001b[35mdaemon off;\u001b[0m\n",
      "\u001b[35mpid /tmp/nginx.pid;\u001b[0m\n",
      "\u001b[35merror_log  /dev/stderr;\u001b[0m\n",
      "\u001b[35mworker_rlimit_nofile 4096;\u001b[0m\n",
      "\u001b[35mevents {\n",
      "  worker_connections 2048;\u001b[0m\n",
      "\u001b[35m}\u001b[0m\n",
      "\u001b[34mhttp {\n",
      "  include /etc/nginx/mime.types;\n",
      "  default_type application/octet-stream;\n",
      "  access_log /dev/stdout combined;\n",
      "  upstream gunicorn {\n",
      "    server unix:/tmp/gunicorn.sock;\n",
      "  }\n",
      "  server {\n",
      "    listen 8080 deferred;\n",
      "    client_max_body_size 0;\n",
      "    keepalive_timeout 3;\n",
      "    location ~ ^/(ping|invocations|execution-parameters) {\n",
      "      proxy_set_header X-Forwarded-For $proxy_add_x_forwarded_for;\n",
      "      proxy_set_header Host $http_host;\n",
      "      proxy_redirect off;\n",
      "      proxy_read_timeout 60s;\n",
      "      proxy_pass http://gunicorn;\n",
      "    }\n",
      "    location / {\n",
      "      return 404 \"{}\";\n",
      "    }\n",
      "  }\u001b[0m\n",
      "\u001b[34m}\u001b[0m\n",
      "\u001b[34m[2021-12-19 04:00:21 +0000] [18] [INFO] Starting gunicorn 19.10.0\u001b[0m\n",
      "\u001b[34m[2021-12-19 04:00:21 +0000] [18] [INFO] Listening at: unix:/tmp/gunicorn.sock (18)\u001b[0m\n",
      "\u001b[34m[2021-12-19 04:00:21 +0000] [18] [INFO] Using worker: gevent\u001b[0m\n",
      "\u001b[34m[2021-12-19 04:00:21 +0000] [25] [INFO] Booting worker with pid: 25\u001b[0m\n",
      "\u001b[34m[2021-12-19 04:00:21 +0000] [26] [INFO] Booting worker with pid: 26\u001b[0m\n",
      "\u001b[34m[2021-12-19 04:00:21 +0000] [27] [INFO] Booting worker with pid: 27\u001b[0m\n",
      "\u001b[34m[2021-12-19 04:00:21 +0000] [31] [INFO] Booting worker with pid: 31\u001b[0m\n",
      "\u001b[35mhttp {\n",
      "  include /etc/nginx/mime.types;\n",
      "  default_type application/octet-stream;\n",
      "  access_log /dev/stdout combined;\n",
      "  upstream gunicorn {\n",
      "    server unix:/tmp/gunicorn.sock;\n",
      "  }\n",
      "  server {\n",
      "    listen 8080 deferred;\n",
      "    client_max_body_size 0;\n",
      "    keepalive_timeout 3;\n",
      "    location ~ ^/(ping|invocations|execution-parameters) {\n",
      "      proxy_set_header X-Forwarded-For $proxy_add_x_forwarded_for;\n",
      "      proxy_set_header Host $http_host;\n",
      "      proxy_redirect off;\n",
      "      proxy_read_timeout 60s;\n",
      "      proxy_pass http://gunicorn;\n",
      "    }\n",
      "    location / {\n",
      "      return 404 \"{}\";\n",
      "    }\n",
      "  }\u001b[0m\n",
      "\u001b[35m}\u001b[0m\n",
      "\u001b[35m[2021-12-19 04:00:21 +0000] [18] [INFO] Starting gunicorn 19.10.0\u001b[0m\n",
      "\u001b[35m[2021-12-19 04:00:21 +0000] [18] [INFO] Listening at: unix:/tmp/gunicorn.sock (18)\u001b[0m\n",
      "\u001b[35m[2021-12-19 04:00:21 +0000] [18] [INFO] Using worker: gevent\u001b[0m\n",
      "\u001b[35m[2021-12-19 04:00:21 +0000] [25] [INFO] Booting worker with pid: 25\u001b[0m\n",
      "\u001b[35m[2021-12-19 04:00:21 +0000] [26] [INFO] Booting worker with pid: 26\u001b[0m\n",
      "\u001b[35m[2021-12-19 04:00:21 +0000] [27] [INFO] Booting worker with pid: 27\u001b[0m\n",
      "\u001b[35m[2021-12-19 04:00:21 +0000] [31] [INFO] Booting worker with pid: 31\u001b[0m\n",
      "\u001b[34m[2021-12-19:04:00:27:INFO] No GPUs detected (normal if no gpus installed)\u001b[0m\n",
      "\u001b[34m169.254.255.130 - - [19/Dec/2021:04:00:27 +0000] \"GET /ping HTTP/1.1\" 200 0 \"-\" \"Go-http-client/1.1\"\u001b[0m\n",
      "\u001b[34m[2021-12-19:04:00:27:INFO] No GPUs detected (normal if no gpus installed)\u001b[0m\n",
      "\u001b[34m169.254.255.130 - - [19/Dec/2021:04:00:27 +0000] \"GET /execution-parameters HTTP/1.1\" 200 84 \"-\" \"Go-http-client/1.1\"\u001b[0m\n",
      "\u001b[34m[2021-12-19:04:00:27:INFO] Determined delimiter of CSV input is ','\u001b[0m\n",
      "\u001b[34m169.254.255.130 - - [19/Dec/2021:04:00:27 +0000] \"POST /invocations HTTP/1.1\" 200 8109 \"-\" \"Go-http-client/1.1\"\u001b[0m\n",
      "\u001b[35m[2021-12-19:04:00:27:INFO] No GPUs detected (normal if no gpus installed)\u001b[0m\n",
      "\u001b[35m169.254.255.130 - - [19/Dec/2021:04:00:27 +0000] \"GET /ping HTTP/1.1\" 200 0 \"-\" \"Go-http-client/1.1\"\u001b[0m\n",
      "\u001b[35m[2021-12-19:04:00:27:INFO] No GPUs detected (normal if no gpus installed)\u001b[0m\n",
      "\u001b[35m169.254.255.130 - - [19/Dec/2021:04:00:27 +0000] \"GET /execution-parameters HTTP/1.1\" 200 84 \"-\" \"Go-http-client/1.1\"\u001b[0m\n",
      "\u001b[35m[2021-12-19:04:00:27:INFO] Determined delimiter of CSV input is ','\u001b[0m\n",
      "\u001b[35m169.254.255.130 - - [19/Dec/2021:04:00:27 +0000] \"POST /invocations HTTP/1.1\" 200 8109 \"-\" \"Go-http-client/1.1\"\u001b[0m\n",
      "\u001b[32m2021-12-19T04:00:27.753:[sagemaker logs]: MaxConcurrentTransforms=4, MaxPayloadInMB=6, BatchStrategy=MULTI_RECORD\u001b[0m\n"
     ]
    }
   ],
   "source": [
    "batch_output = \"s3://{}/{}/batch-out/\".format(bucket,prefix)\n",
    "batch_input = \"s3://{}/{}/batch-in/{}\".format(bucket,prefix,batch_X_file)\n",
    "\n",
    "xgb_transformer = xgb_model.transformer(instance_count=1,\n",
    "                                       instance_type='ml.m4.xlarge',\n",
    "                                       strategy='MultiRecord',\n",
    "                                       assemble_with='Line',\n",
    "                                       output_path=batch_output)\n",
    "\n",
    "xgb_transformer.transform(data=batch_input,\n",
    "                         data_type='S3Prefix',\n",
    "                         content_type='text/csv',\n",
    "                         split_type='Line')\n",
    "xgb_transformer.wait()"
   ]
  },
  {
   "cell_type": "markdown",
   "id": "694ef6a3",
   "metadata": {},
   "source": [
    "Fazendo download da saída do S3"
   ]
  },
  {
   "cell_type": "code",
   "execution_count": 84,
   "id": "a9791f39",
   "metadata": {},
   "outputs": [
    {
     "data": {
      "text/html": [
       "<div>\n",
       "<style scoped>\n",
       "    .dataframe tbody tr th:only-of-type {\n",
       "        vertical-align: middle;\n",
       "    }\n",
       "\n",
       "    .dataframe tbody tr th {\n",
       "        vertical-align: top;\n",
       "    }\n",
       "\n",
       "    .dataframe thead th {\n",
       "        text-align: right;\n",
       "    }\n",
       "</style>\n",
       "<table border=\"1\" class=\"dataframe\">\n",
       "  <thead>\n",
       "    <tr style=\"text-align: right;\">\n",
       "      <th></th>\n",
       "      <th>sexo</th>\n",
       "    </tr>\n",
       "  </thead>\n",
       "  <tbody>\n",
       "    <tr>\n",
       "      <th>0</th>\n",
       "      <td>0.669200</td>\n",
       "    </tr>\n",
       "    <tr>\n",
       "      <th>1</th>\n",
       "      <td>0.164219</td>\n",
       "    </tr>\n",
       "    <tr>\n",
       "      <th>2</th>\n",
       "      <td>0.065405</td>\n",
       "    </tr>\n",
       "    <tr>\n",
       "      <th>3</th>\n",
       "      <td>0.022768</td>\n",
       "    </tr>\n",
       "    <tr>\n",
       "      <th>4</th>\n",
       "      <td>0.619789</td>\n",
       "    </tr>\n",
       "  </tbody>\n",
       "</table>\n",
       "</div>"
      ],
      "text/plain": [
       "       sexo\n",
       "0  0.669200\n",
       "1  0.164219\n",
       "2  0.065405\n",
       "3  0.022768\n",
       "4  0.619789"
      ]
     },
     "execution_count": 84,
     "metadata": {},
     "output_type": "execute_result"
    }
   ],
   "source": [
    "s3 = boto3.client('s3')\n",
    "obj = s3.get_object(Bucket=bucket, Key=\"{}/batch-out/{}\".format(prefix,'batch-in.csv.out'))\n",
    "target_predicted = pd.read_csv(io.BytesIO(obj['Body'].read()),',',names=['sexo'])\n",
    "target_predicted.head(5)"
   ]
  },
  {
   "cell_type": "markdown",
   "id": "58785b0c",
   "metadata": {},
   "source": [
    "Analisando as saídas, usando um threshold de 0.65:"
   ]
  },
  {
   "cell_type": "code",
   "execution_count": 107,
   "id": "0e2a1d55",
   "metadata": {},
   "outputs": [
    {
     "name": "stdout",
     "output_type": "stream",
     "text": [
      "       sexo  binario\n",
      "0  0.669200        0\n",
      "1  0.164219        0\n",
      "2  0.065405        0\n",
      "3  0.022768        0\n",
      "4  0.619789        0\n",
      "5  0.427557        0\n",
      "6  0.158237        0\n",
      "7  0.443840        0\n",
      "8  0.505827        0\n",
      "9  0.801332        1\n"
     ]
    },
    {
     "data": {
      "text/html": [
       "<div>\n",
       "<style scoped>\n",
       "    .dataframe tbody tr th:only-of-type {\n",
       "        vertical-align: middle;\n",
       "    }\n",
       "\n",
       "    .dataframe tbody tr th {\n",
       "        vertical-align: top;\n",
       "    }\n",
       "\n",
       "    .dataframe thead th {\n",
       "        text-align: right;\n",
       "    }\n",
       "</style>\n",
       "<table border=\"1\" class=\"dataframe\">\n",
       "  <thead>\n",
       "    <tr style=\"text-align: right;\">\n",
       "      <th></th>\n",
       "      <th>sexo</th>\n",
       "      <th>comprimento</th>\n",
       "      <th>diametro</th>\n",
       "      <th>altura</th>\n",
       "      <th>peso_total</th>\n",
       "      <th>peso_descascado</th>\n",
       "      <th>peso_visceras</th>\n",
       "      <th>peso_casca</th>\n",
       "      <th>anéis</th>\n",
       "    </tr>\n",
       "  </thead>\n",
       "  <tbody>\n",
       "    <tr>\n",
       "      <th>291</th>\n",
       "      <td>0</td>\n",
       "      <td>0.565</td>\n",
       "      <td>0.505</td>\n",
       "      <td>0.210</td>\n",
       "      <td>1.2765</td>\n",
       "      <td>0.5010</td>\n",
       "      <td>0.2790</td>\n",
       "      <td>0.3550</td>\n",
       "      <td>0.12</td>\n",
       "    </tr>\n",
       "    <tr>\n",
       "      <th>4025</th>\n",
       "      <td>0</td>\n",
       "      <td>0.330</td>\n",
       "      <td>0.260</td>\n",
       "      <td>0.085</td>\n",
       "      <td>0.1965</td>\n",
       "      <td>0.0915</td>\n",
       "      <td>0.0425</td>\n",
       "      <td>0.0550</td>\n",
       "      <td>0.07</td>\n",
       "    </tr>\n",
       "    <tr>\n",
       "      <th>2870</th>\n",
       "      <td>0</td>\n",
       "      <td>0.370</td>\n",
       "      <td>0.270</td>\n",
       "      <td>0.090</td>\n",
       "      <td>0.1855</td>\n",
       "      <td>0.0700</td>\n",
       "      <td>0.0425</td>\n",
       "      <td>0.0650</td>\n",
       "      <td>0.07</td>\n",
       "    </tr>\n",
       "    <tr>\n",
       "      <th>919</th>\n",
       "      <td>0</td>\n",
       "      <td>0.410</td>\n",
       "      <td>0.310</td>\n",
       "      <td>0.090</td>\n",
       "      <td>0.3335</td>\n",
       "      <td>0.1635</td>\n",
       "      <td>0.0610</td>\n",
       "      <td>0.0910</td>\n",
       "      <td>0.06</td>\n",
       "    </tr>\n",
       "    <tr>\n",
       "      <th>1137</th>\n",
       "      <td>0</td>\n",
       "      <td>0.575</td>\n",
       "      <td>0.450</td>\n",
       "      <td>0.160</td>\n",
       "      <td>1.0680</td>\n",
       "      <td>0.5560</td>\n",
       "      <td>0.2140</td>\n",
       "      <td>0.2575</td>\n",
       "      <td>0.10</td>\n",
       "    </tr>\n",
       "    <tr>\n",
       "      <th>1496</th>\n",
       "      <td>1</td>\n",
       "      <td>0.620</td>\n",
       "      <td>0.480</td>\n",
       "      <td>0.165</td>\n",
       "      <td>1.0725</td>\n",
       "      <td>0.4815</td>\n",
       "      <td>0.2350</td>\n",
       "      <td>0.3120</td>\n",
       "      <td>0.09</td>\n",
       "    </tr>\n",
       "    <tr>\n",
       "      <th>2341</th>\n",
       "      <td>0</td>\n",
       "      <td>0.310</td>\n",
       "      <td>0.240</td>\n",
       "      <td>0.090</td>\n",
       "      <td>0.1455</td>\n",
       "      <td>0.0605</td>\n",
       "      <td>0.0315</td>\n",
       "      <td>0.0450</td>\n",
       "      <td>0.07</td>\n",
       "    </tr>\n",
       "    <tr>\n",
       "      <th>1676</th>\n",
       "      <td>1</td>\n",
       "      <td>0.615</td>\n",
       "      <td>0.470</td>\n",
       "      <td>0.160</td>\n",
       "      <td>1.0175</td>\n",
       "      <td>0.4730</td>\n",
       "      <td>0.2395</td>\n",
       "      <td>0.2800</td>\n",
       "      <td>0.10</td>\n",
       "    </tr>\n",
       "    <tr>\n",
       "      <th>1650</th>\n",
       "      <td>0</td>\n",
       "      <td>0.590</td>\n",
       "      <td>0.460</td>\n",
       "      <td>0.145</td>\n",
       "      <td>0.9015</td>\n",
       "      <td>0.4190</td>\n",
       "      <td>0.1785</td>\n",
       "      <td>0.2600</td>\n",
       "      <td>0.11</td>\n",
       "    </tr>\n",
       "    <tr>\n",
       "      <th>2704</th>\n",
       "      <td>1</td>\n",
       "      <td>0.700</td>\n",
       "      <td>0.525</td>\n",
       "      <td>0.175</td>\n",
       "      <td>1.7585</td>\n",
       "      <td>0.8745</td>\n",
       "      <td>0.3615</td>\n",
       "      <td>0.4700</td>\n",
       "      <td>0.10</td>\n",
       "    </tr>\n",
       "  </tbody>\n",
       "</table>\n",
       "</div>"
      ],
      "text/plain": [
       "      sexo  comprimento  diametro  altura  peso_total  peso_descascado  peso_visceras  peso_casca  anéis\n",
       "291      0        0.565     0.505   0.210      1.2765           0.5010         0.2790      0.3550   0.12\n",
       "4025     0        0.330     0.260   0.085      0.1965           0.0915         0.0425      0.0550   0.07\n",
       "2870     0        0.370     0.270   0.090      0.1855           0.0700         0.0425      0.0650   0.07\n",
       "919      0        0.410     0.310   0.090      0.3335           0.1635         0.0610      0.0910   0.06\n",
       "1137     0        0.575     0.450   0.160      1.0680           0.5560         0.2140      0.2575   0.10\n",
       "1496     1        0.620     0.480   0.165      1.0725           0.4815         0.2350      0.3120   0.09\n",
       "2341     0        0.310     0.240   0.090      0.1455           0.0605         0.0315      0.0450   0.07\n",
       "1676     1        0.615     0.470   0.160      1.0175           0.4730         0.2395      0.2800   0.10\n",
       "1650     0        0.590     0.460   0.145      0.9015           0.4190         0.1785      0.2600   0.11\n",
       "2704     1        0.700     0.525   0.175      1.7585           0.8745         0.3615      0.4700   0.10"
      ]
     },
     "execution_count": 107,
     "metadata": {},
     "output_type": "execute_result"
    }
   ],
   "source": [
    "def converte_binario(x):\n",
    "    threshold = 0.75\n",
    "    if x > threshold:\n",
    "        return 1\n",
    "    else:\n",
    "        return 0\n",
    "\n",
    "target_predicted['binario'] = target_predicted['sexo'].apply(converte_binario)\n",
    "\n",
    "print(target_predicted.head(10))\n",
    "test.head(10)"
   ]
  },
  {
   "cell_type": "markdown",
   "id": "a6078f8e",
   "metadata": {},
   "source": [
    "Analisando as 10 primeiras linhas tivemos dois erros: **linha 6 = 0.427557**  e **linha 8 = 0.443840** era pra ser macho mas ele não considerou"
   ]
  },
  {
   "cell_type": "markdown",
   "id": "ddd72454",
   "metadata": {},
   "source": [
    "# Etapa 8: Criando de uma matriz de confusão (confusion matrix)"
   ]
  },
  {
   "cell_type": "code",
   "execution_count": 100,
   "id": "d635ec4d",
   "metadata": {},
   "outputs": [
    {
     "data": {
      "text/plain": [
       "291     0\n",
       "4025    0\n",
       "2870    0\n",
       "919     0\n",
       "1137    0\n",
       "Name: sexo, dtype: int64"
      ]
     },
     "execution_count": 100,
     "metadata": {},
     "output_type": "execute_result"
    }
   ],
   "source": [
    "test_labels = test.iloc[:,0]\n",
    "test_labels.head()"
   ]
  },
  {
   "cell_type": "markdown",
   "id": "6202b380",
   "metadata": {},
   "source": [
    "Criando a matriz de confusão"
   ]
  },
  {
   "cell_type": "code",
   "execution_count": 101,
   "id": "28ccd3cc",
   "metadata": {},
   "outputs": [
    {
     "data": {
      "text/html": [
       "<div>\n",
       "<style scoped>\n",
       "    .dataframe tbody tr th:only-of-type {\n",
       "        vertical-align: middle;\n",
       "    }\n",
       "\n",
       "    .dataframe tbody tr th {\n",
       "        vertical-align: top;\n",
       "    }\n",
       "\n",
       "    .dataframe thead th {\n",
       "        text-align: right;\n",
       "    }\n",
       "</style>\n",
       "<table border=\"1\" class=\"dataframe\">\n",
       "  <thead>\n",
       "    <tr style=\"text-align: right;\">\n",
       "      <th></th>\n",
       "      <th>Macho</th>\n",
       "      <th>Não Macho</th>\n",
       "    </tr>\n",
       "  </thead>\n",
       "  <tbody>\n",
       "    <tr>\n",
       "      <th>Macho</th>\n",
       "      <td>262</td>\n",
       "      <td>3</td>\n",
       "    </tr>\n",
       "    <tr>\n",
       "      <th>Não Macho</th>\n",
       "      <td>143</td>\n",
       "      <td>10</td>\n",
       "    </tr>\n",
       "  </tbody>\n",
       "</table>\n",
       "</div>"
      ],
      "text/plain": [
       "           Macho  Não Macho\n",
       "Macho        262          3\n",
       "Não Macho    143         10"
      ]
     },
     "execution_count": 101,
     "metadata": {},
     "output_type": "execute_result"
    }
   ],
   "source": [
    "from sklearn.metrics import confusion_matrix\n",
    "\n",
    "target_predicted_binario = target_predicted['sexo'].apply(converte_binario)\n",
    "\n",
    "matrix = confusion_matrix(test_labels,target_predicted_binario)\n",
    "df_confusion = pd.DataFrame(matrix, index=['Macho','Não Macho'],columns=['Macho','Não Macho'])\n",
    "\n",
    "df_confusion"
   ]
  },
  {
   "cell_type": "code",
   "execution_count": 102,
   "id": "464a886d",
   "metadata": {},
   "outputs": [
    {
     "data": {
      "image/png": "[encoded data removed]",
      "text/plain": [
       "<Figure size 432x288 with 1 Axes>"
      ]
     },
     "metadata": {
      "needs_background": "light"
     },
     "output_type": "display_data"
    }
   ],
   "source": [
    "import seaborn as sns\n",
    "import matplotlib.pyplot as plt\n",
    "\n",
    "mapa_colorido = sns.color_palette(\"BrBG\", 10)\n",
    "sns.heatmap(df_confusion, annot=True, cbar=None, cmap=mapa_colorido, fmt='.3g')\n",
    "plt.title(\"Matrix de Confusão\")\n",
    "plt.tight_layout()\n",
    "plt.ylabel(\"True Class\")\n",
    "plt.xlabel(\"Predicted Class\")\n",
    "plt.show()"
   ]
  },
  {
   "cell_type": "markdown",
   "id": "7bea7840",
   "metadata": {},
   "source": [
    "O modelo previu corretamente os valores **262 Macho** e **10 Não Macho**.\\\n",
    "No entanto, ele previu incorretamente os valores **143 Macho** e **3 Não Macho**. \n"
   ]
  },
  {
   "cell_type": "markdown",
   "id": "b4917cbb",
   "metadata": {},
   "source": [
    "# Etapa 9: Cálculo dos dados estatísticos de desempenho"
   ]
  },
  {
   "cell_type": "markdown",
   "id": "6148a839",
   "metadata": {},
   "source": [
    "Extrair os valores das células da matriz de confusão (confusion matrix) em variáveis."
   ]
  },
  {
   "cell_type": "code",
   "execution_count": 112,
   "id": "7d89646b",
   "metadata": {},
   "outputs": [
    {
     "name": "stdout",
     "output_type": "stream",
     "text": [
      "True Negative (TN) : 262\n",
      "False Positive (FP): 3\n",
      "False Negative (FN): 143\n",
      "True Positive (TP) : 10\n"
     ]
    }
   ],
   "source": [
    "from sklearn.metrics import roc_auc_score, roc_curve, auc\n",
    "\n",
    "TN, FP, FN, TP = confusion_matrix(test_labels, target_predicted_binario).ravel()\n",
    "\n",
    "print(f\"True Negative (TN) : {TN}\")\n",
    "print(f\"False Positive (FP): {FP}\")\n",
    "print(f\"False Negative (FN): {FN}\")\n",
    "print(f\"True Positive (TP) : {TP}\")"
   ]
  },
  {
   "cell_type": "markdown",
   "id": "2b246865",
   "metadata": {},
   "source": [
    "### Sensibilidade"
   ]
  },
  {
   "cell_type": "code",
   "execution_count": 113,
   "id": "77fec0c2",
   "metadata": {},
   "outputs": [
    {
     "name": "stdout",
     "output_type": "stream",
     "text": [
      "Sensibilidade ou TPR: 6.535947712418301%\n",
      "Há 6.535947712418301% de chance do modelo detectar machos.\n"
     ]
    }
   ],
   "source": [
    "# Sensibilidade, taxa de acerto, recall ou taxa de verdadeiro positivo\n",
    "sensibilidade  = float(TP)/(TP+FN)*100\n",
    "print(f\"Sensibilidade ou TPR: {sensibilidade}%\")  \n",
    "print(f\"Há {sensibilidade}% de chance do modelo detectar machos.\")"
   ]
  },
  {
   "cell_type": "markdown",
   "id": "ec77996d",
   "metadata": {},
   "source": [
    "**Muito baixo o percentual**"
   ]
  },
  {
   "cell_type": "markdown",
   "id": "96cd79f0",
   "metadata": {},
   "source": [
    "### Especificidade"
   ]
  },
  {
   "cell_type": "code",
   "execution_count": 114,
   "id": "e65c7837",
   "metadata": {},
   "outputs": [
    {
     "name": "stdout",
     "output_type": "stream",
     "text": [
      "Especificidade or TNR: 98.86792452830188%\n",
      "Há 98.86792452830188% chance do modelo detectar não macho.\n"
     ]
    }
   ],
   "source": [
    "# Especificidade ou true negative rate\n",
    "especificidade  = float(TN)/(TN+FP)*100\n",
    "print(f\"Especificidade or TNR: {especificidade}%\") \n",
    "print(f\"Há {especificidade}% chance do modelo detectar não macho.\")"
   ]
  },
  {
   "cell_type": "markdown",
   "id": "99fe43c3",
   "metadata": {},
   "source": [
    "### Valores preditivos positivos e negativos\n"
   ]
  },
  {
   "cell_type": "code",
   "execution_count": 116,
   "id": "e0e815a8",
   "metadata": {},
   "outputs": [
    {
     "name": "stdout",
     "output_type": "stream",
     "text": [
      "Precisão: 76.92307692307693%\n",
      "Você tem um macho e a probabilidade de estar correta é 76.92307692307693%\n"
     ]
    }
   ],
   "source": [
    "# Precisão or positive predictive value\n",
    "precisao = float(TP)/(TP+FP)*100\n",
    "print(f\"Precisão: {precisao}%\")  \n",
    "print(f\"Você tem um macho e a probabilidade de estar correta é {precisao}%\")"
   ]
  },
  {
   "cell_type": "markdown",
   "id": "db30ea4d",
   "metadata": {},
   "source": [
    "O *valor preditivo negativo*"
   ]
  },
  {
   "cell_type": "code",
   "execution_count": 118,
   "id": "6b2e28a9",
   "metadata": {},
   "outputs": [
    {
     "name": "stdout",
     "output_type": "stream",
     "text": [
      "Valor preditivo negativo: 64.69135802469135%\n"
     ]
    }
   ],
   "source": [
    "# Valor preditivo negativo\n",
    "NPV = float(TN)/(TN+FN)*100\n",
    "print(f\"Valor preditivo negativo: {NPV}%\") "
   ]
  },
  {
   "cell_type": "markdown",
   "id": "695867b2",
   "metadata": {},
   "source": [
    "### Taxa de falsos positivos (false positive rate)"
   ]
  },
  {
   "cell_type": "code",
   "execution_count": 119,
   "id": "1043542d",
   "metadata": {},
   "outputs": [
    {
     "name": "stdout",
     "output_type": "stream",
     "text": [
      "Taxa de Falso positivo: 1.1320754716981132%\n"
     ]
    }
   ],
   "source": [
    "# Falsos positivos\n",
    "FPR = float(FP)/(FP+TN)*100\n",
    "print( f\"Taxa de Falso positivo: {FPR}%\") "
   ]
  },
  {
   "cell_type": "markdown",
   "id": "f2f85a2d",
   "metadata": {},
   "source": [
    "### Taxa de falsos negativos\n"
   ]
  },
  {
   "cell_type": "code",
   "execution_count": 121,
   "id": "4c899735",
   "metadata": {},
   "outputs": [
    {
     "name": "stdout",
     "output_type": "stream",
     "text": [
      "Taxa de Falso negativo: 93.4640522875817%\n"
     ]
    }
   ],
   "source": [
    "# Falsos negativo\n",
    "FNR = float(FN)/(TP+FN)*100\n",
    "print(f\"Taxa de Falso negativo: {FNR}%\") "
   ]
  },
  {
   "cell_type": "markdown",
   "id": "7e9299be",
   "metadata": {},
   "source": [
    "### Taxa de descobertas falsas (False discovery rate)\n"
   ]
  },
  {
   "cell_type": "code",
   "execution_count": 123,
   "id": "ca5d5342",
   "metadata": {},
   "outputs": [
    {
     "name": "stdout",
     "output_type": "stream",
     "text": [
      "Taxa de descoberta falsa: 23.076923076923077%\n"
     ]
    }
   ],
   "source": [
    "# Taxa de descoberta falsa\n",
    "FDR = float(FP)/(TP+FP)*100\n",
    "print(f\"Taxa de descoberta falsa: {FDR}%\" )"
   ]
  },
  {
   "cell_type": "markdown",
   "id": "8ae5f946",
   "metadata": {},
   "source": [
    "### Precisão geral"
   ]
  },
  {
   "cell_type": "code",
   "execution_count": 124,
   "id": "2d6fe135",
   "metadata": {},
   "outputs": [
    {
     "name": "stdout",
     "output_type": "stream",
     "text": [
      "Acuracidade: 65.07177033492823%\n"
     ]
    }
   ],
   "source": [
    "# Precisão geral\n",
    "ACC = float(TP+TN)/(TP+FP+FN+TN)*100\n",
    "print(f\"Acuracidade: {ACC}%\") "
   ]
  },
  {
   "cell_type": "markdown",
   "id": "49e4e9de",
   "metadata": {},
   "source": [
    "Resumo:"
   ]
  },
  {
   "cell_type": "code",
   "execution_count": 126,
   "id": "82de7c1f",
   "metadata": {},
   "outputs": [
    {
     "name": "stdout",
     "output_type": "stream",
     "text": [
      "Sensibilidade ou TPR: 6.535947712418301%\n",
      "Especificidade or TNR: 98.86792452830188%\n",
      "Precisão: 76.92307692307693%\n",
      "Valor preditivo negativo: 64.69135802469135%\n",
      "Taxa de Falso positivo: 1.1320754716981132%\n",
      "Taxa de Falso negativo: 93.4640522875817%\n",
      "Taxa de descoberta falsa: 23.076923076923077%\n",
      "Acuracidade: 65.07177033492823%\n"
     ]
    }
   ],
   "source": [
    "print(f\"Sensibilidade ou TPR: {sensibilidade}%\")     \n",
    "print(f\"Especificidade or TNR: {especificidade}%\") \n",
    "print(f\"Precisão: {precisao}%\")   \n",
    "print(f\"Valor preditivo negativo: {NPV}%\")  \n",
    "print(f\"Taxa de Falso positivo: {FPR}%\") \n",
    "print(f\"Taxa de Falso negativo: {FNR}%\")  \n",
    "print(f\"Taxa de descoberta falsa: {FDR}%\" )\n",
    "print(f\"Acuracidade: {ACC}%\") "
   ]
  },
  {
   "cell_type": "markdown",
   "id": "b12e844d",
   "metadata": {},
   "source": [
    "# Etapa 10: Cálculo do AUC-ROC"
   ]
  },
  {
   "cell_type": "code",
   "execution_count": 109,
   "id": "edb74de3",
   "metadata": {},
   "outputs": [
    {
     "name": "stdout",
     "output_type": "stream",
     "text": [
      "291     0\n",
      "4025    0\n",
      "2870    0\n",
      "919     0\n",
      "1137    0\n",
      "1496    1\n",
      "2341    0\n",
      "1676    1\n",
      "1650    0\n",
      "2704    1\n",
      "298     1\n",
      "1405    1\n",
      "2848    0\n",
      "4019    1\n",
      "346     0\n",
      "1579    0\n",
      "1644    1\n",
      "1043    1\n",
      "63      1\n",
      "3574    0\n",
      "688     1\n",
      "3745    0\n",
      "1135    0\n",
      "705     1\n",
      "2056    0\n",
      "879     0\n",
      "1614    0\n",
      "3291    1\n",
      "4110    1\n",
      "4060    0\n",
      "3952    0\n",
      "984     1\n",
      "115     0\n",
      "2643    0\n",
      "2999    0\n",
      "1113    0\n",
      "3618    1\n",
      "734     1\n",
      "2880    0\n",
      "611     1\n",
      "1251    0\n",
      "121     0\n",
      "108     0\n",
      "3623    1\n",
      "786     0\n",
      "3614    1\n",
      "1559    0\n",
      "1276    0\n",
      "4145    1\n",
      "2200    0\n",
      "266     1\n",
      "271     1\n",
      "337     1\n",
      "4121    0\n",
      "693     1\n",
      "1382    0\n",
      "2702    1\n",
      "132     0\n",
      "1421    0\n",
      "1760    0\n",
      "3502    1\n",
      "1513    1\n",
      "3733    1\n",
      "3166    0\n",
      "3964    0\n",
      "2468    0\n",
      "1965    1\n",
      "971     1\n",
      "345     1\n",
      "3249    1\n",
      "1240    0\n",
      "1892    1\n",
      "157     1\n",
      "3408    0\n",
      "1440    0\n",
      "3918    0\n",
      "3973    0\n",
      "3625    0\n",
      "885     0\n",
      "3792    0\n",
      "908     0\n",
      "2242    0\n",
      "3397    0\n",
      "1008    1\n",
      "652     0\n",
      "893     0\n",
      "945     1\n",
      "1686    1\n",
      "1935    1\n",
      "1053    0\n",
      "1165    0\n",
      "1728    1\n",
      "1646    0\n",
      "77      0\n",
      "944     0\n",
      "3372    0\n",
      "3674    0\n",
      "3796    0\n",
      "1629    0\n",
      "75      0\n",
      "3588    1\n",
      "2443    0\n",
      "2321    1\n",
      "238     0\n",
      "3168    1\n",
      "931     0\n",
      "1595    1\n",
      "3209    0\n",
      "911     0\n",
      "139     1\n",
      "2238    0\n",
      "2807    1\n",
      "3300    0\n",
      "2017    1\n",
      "2730    0\n",
      "94      1\n",
      "3087    0\n",
      "314     1\n",
      "1268    0\n",
      "2789    0\n",
      "2132    0\n",
      "2941    0\n",
      "2623    0\n",
      "795     1\n",
      "1848    0\n",
      "448     1\n",
      "3985    1\n",
      "3578    0\n",
      "788     0\n",
      "1762    1\n",
      "1424    0\n",
      "3930    0\n",
      "1279    0\n",
      "3346    0\n",
      "4058    0\n",
      "2217    0\n",
      "3019    0\n",
      "1132    0\n",
      "3057    1\n",
      "3167    1\n",
      "834     0\n",
      "2355    1\n",
      "2044    0\n",
      "2922    1\n",
      "642     0\n",
      "2889    0\n",
      "599     0\n",
      "3083    0\n",
      "2711    0\n",
      "3810    0\n",
      "98      1\n",
      "2926    0\n",
      "1084    0\n",
      "2991    1\n",
      "1900    1\n",
      "2574    1\n",
      "2734    0\n",
      "3044    0\n",
      "3648    0\n",
      "403     0\n",
      "2363    1\n",
      "1647    0\n",
      "1244    0\n",
      "2908    0\n",
      "362     0\n",
      "262     1\n",
      "2805    0\n",
      "3695    0\n",
      "2945    0\n",
      "2849    1\n",
      "1905    0\n",
      "1216    0\n",
      "3642    0\n",
      "1353    1\n",
      "1242    0\n",
      "7       0\n",
      "1148    1\n",
      "3318    1\n",
      "2059    0\n",
      "1033    1\n",
      "1386    1\n",
      "2366    1\n",
      "1194    0\n",
      "4018    1\n",
      "1879    0\n",
      "3281    1\n",
      "2395    0\n",
      "2104    0\n",
      "414     0\n",
      "2891    0\n",
      "3855    1\n",
      "2821    0\n",
      "1697    1\n",
      "627     0\n",
      "3521    0\n",
      "134     0\n",
      "3938    0\n",
      "1501    1\n",
      "3839    1\n",
      "323     0\n",
      "1807    1\n",
      "3339    0\n",
      "285     0\n",
      "2581    0\n",
      "1934    1\n",
      "62      0\n",
      "1508    1\n",
      "344     0\n",
      "3865    1\n",
      "823     0\n",
      "2168    1\n",
      "1055    0\n",
      "715     0\n",
      "583     0\n",
      "281     0\n",
      "1457    0\n",
      "2245    1\n",
      "140     0\n",
      "4159    0\n",
      "1843    0\n",
      "3821    1\n",
      "3353    0\n",
      "458     0\n",
      "2935    1\n",
      "1943    0\n",
      "2500    0\n",
      "555     0\n",
      "996     1\n",
      "1605    0\n",
      "2457    0\n",
      "741     0\n",
      "2612    0\n",
      "2948    0\n",
      "3319    0\n",
      "25      0\n",
      "2923    0\n",
      "359     0\n",
      "4033    0\n",
      "1828    0\n",
      "2345    0\n",
      "2317    1\n",
      "3030    0\n",
      "3646    0\n",
      "1784    1\n",
      "3045    0\n",
      "2289    0\n",
      "3628    0\n",
      "1566    0\n",
      "2198    0\n",
      "2988    1\n",
      "3943    1\n",
      "443     0\n",
      "2276    0\n",
      "1815    0\n",
      "3182    1\n",
      "1796    1\n",
      "2979    1\n",
      "1820    0\n",
      "495     0\n",
      "1383    0\n",
      "3373    1\n",
      "3161    0\n",
      "2274    1\n",
      "3110    0\n",
      "776     1\n",
      "117     1\n",
      "1636    1\n",
      "2163    0\n",
      "3812    0\n",
      "400     0\n",
      "3206    0\n",
      "112     0\n",
      "726     1\n",
      "2843    1\n",
      "2853    0\n",
      "3720    0\n",
      "1726    0\n",
      "1418    1\n",
      "948     0\n",
      "1166    0\n",
      "784     0\n",
      "1618    0\n",
      "1503    0\n",
      "1718    1\n",
      "1329    0\n",
      "1371    1\n",
      "2727    0\n",
      "2022    0\n",
      "2699    1\n",
      "1204    1\n",
      "486     1\n",
      "1426    0\n",
      "626     0\n",
      "4152    0\n",
      "2456    0\n",
      "957     1\n",
      "3050    1\n",
      "2450    0\n",
      "3260    0\n",
      "216     1\n",
      "3184    0\n",
      "3145    1\n",
      "2086    0\n",
      "1834    0\n",
      "3914    0\n",
      "235     0\n",
      "225     0\n",
      "3232    1\n",
      "1450    0\n",
      "3993    1\n",
      "2884    0\n",
      "2329    0\n",
      "194     0\n",
      "3274    0\n",
      "2445    1\n",
      "1774    1\n",
      "16      0\n",
      "1588    0\n",
      "2016    1\n",
      "770     0\n",
      "553     0\n",
      "3897    0\n",
      "2150    1\n",
      "1395    1\n",
      "1849    0\n",
      "1305    0\n",
      "894     0\n",
      "3841    1\n",
      "789     0\n",
      "837     0\n",
      "1752    1\n",
      "187     0\n",
      "2776    1\n",
      "4053    0\n",
      "2087    1\n",
      "2626    0\n",
      "2656    1\n",
      "3181    1\n",
      "2577    0\n",
      "2127    0\n",
      "3520    0\n",
      "807     0\n",
      "1624    1\n",
      "3427    1\n",
      "2715    0\n",
      "2659    0\n",
      "263     0\n",
      "1756    0\n",
      "2258    1\n",
      "472     0\n",
      "1519    1\n",
      "608     1\n",
      "3446    0\n",
      "2100    0\n",
      "268     1\n",
      "2213    1\n",
      "3543    0\n",
      "497     0\n",
      "2133    1\n",
      "2937    1\n",
      "145     0\n",
      "3700    0\n",
      "3527    0\n",
      "2058    1\n",
      "917     0\n",
      "637     1\n",
      "1897    1\n",
      "751     1\n",
      "557     0\n",
      "522     0\n",
      "3829    0\n",
      "4092    0\n",
      "3859    0\n",
      "3610    1\n",
      "1933    1\n",
      "1893    0\n",
      "1075    0\n",
      "1970    1\n",
      "3961    1\n",
      "312     1\n",
      "259     0\n",
      "3117    0\n",
      "505     1\n",
      "2578    1\n",
      "3035    0\n",
      "1119    0\n",
      "2139    1\n",
      "3716    0\n",
      "476     0\n",
      "3048    0\n",
      "3644    0\n",
      "811     0\n",
      "1955    0\n",
      "3082    0\n",
      "2334    0\n",
      "3070    0\n",
      "274     1\n",
      "3783    0\n",
      "3958    0\n",
      "3902    0\n",
      "2304    1\n",
      "418     0\n",
      "2273    0\n",
      "566     0\n",
      "570     0\n",
      "20      1\n",
      "3864    0\n",
      "3827    1\n",
      "797     1\n",
      "2969    1\n",
      "753     0\n",
      "2162    0\n",
      "2950    1\n",
      "1098    1\n",
      "3608    1\n",
      "3739    0\n",
      "3599    1\n",
      "1044    1\n",
      "Name: sexo, dtype: int64\n"
     ]
    },
    {
     "data": {
      "text/html": [
       "<div>\n",
       "<style scoped>\n",
       "    .dataframe tbody tr th:only-of-type {\n",
       "        vertical-align: middle;\n",
       "    }\n",
       "\n",
       "    .dataframe tbody tr th {\n",
       "        vertical-align: top;\n",
       "    }\n",
       "\n",
       "    .dataframe thead th {\n",
       "        text-align: right;\n",
       "    }\n",
       "</style>\n",
       "<table border=\"1\" class=\"dataframe\">\n",
       "  <thead>\n",
       "    <tr style=\"text-align: right;\">\n",
       "      <th></th>\n",
       "      <th>sexo</th>\n",
       "    </tr>\n",
       "  </thead>\n",
       "  <tbody>\n",
       "    <tr>\n",
       "      <th>0</th>\n",
       "      <td>0.669200</td>\n",
       "    </tr>\n",
       "    <tr>\n",
       "      <th>1</th>\n",
       "      <td>0.164219</td>\n",
       "    </tr>\n",
       "    <tr>\n",
       "      <th>2</th>\n",
       "      <td>0.065405</td>\n",
       "    </tr>\n",
       "    <tr>\n",
       "      <th>3</th>\n",
       "      <td>0.022768</td>\n",
       "    </tr>\n",
       "    <tr>\n",
       "      <th>4</th>\n",
       "      <td>0.619789</td>\n",
       "    </tr>\n",
       "  </tbody>\n",
       "</table>\n",
       "</div>"
      ],
      "text/plain": [
       "       sexo\n",
       "0  0.669200\n",
       "1  0.164219\n",
       "2  0.065405\n",
       "3  0.022768\n",
       "4  0.619789"
      ]
     },
     "execution_count": 109,
     "metadata": {},
     "output_type": "execute_result"
    }
   ],
   "source": [
    "s3 = boto3.client('s3')\n",
    "obj = s3.get_object(Bucket=bucket, Key=\"{}/batch-out/{}\".format(prefix,'batch-in.csv.out'))\n",
    "target_predicted = pd.read_csv(io.BytesIO(obj['Body'].read()),',',names=['sexo'])\n",
    "\n",
    "test_labels = test.iloc[:,0];\n",
    "\n",
    "print(test_labels)\n",
    "target_predicted.head(5)"
   ]
  },
  {
   "cell_type": "code",
   "execution_count": 127,
   "id": "2f6942dd",
   "metadata": {},
   "outputs": [
    {
     "name": "stdout",
     "output_type": "stream",
     "text": [
      "Validação AUC 0.6887532371439141\n"
     ]
    }
   ],
   "source": [
    "print(\"Validação AUC\", roc_auc_score(test_labels, target_predicted) )"
   ]
  },
  {
   "cell_type": "code",
   "execution_count": 128,
   "id": "71f6326a",
   "metadata": {},
   "outputs": [
    {
     "name": "stdout",
     "output_type": "stream",
     "text": [
      "Figure(432x288)\n"
     ]
    },
    {
     "data": {
      "image/png": "[encoded data removed]",
      "text/plain": [
       "<Figure size 432x288 with 2 Axes>"
      ]
     },
     "metadata": {
      "needs_background": "light"
     },
     "output_type": "display_data"
    },
    {
     "data": {
      "text/plain": [
       "<Figure size 432x288 with 0 Axes>"
      ]
     },
     "metadata": {},
     "output_type": "display_data"
    }
   ],
   "source": [
    "fpr, tpr, thresholds = roc_curve(test_labels, target_predicted)\n",
    "roc_auc = auc(fpr, tpr)\n",
    "\n",
    "plt.figure()\n",
    "plt.plot(fpr, tpr, label='curva ROC(area = %0.2f)' % (roc_auc))\n",
    "plt.plot([0, 1], [0, 1], 'k--')\n",
    "plt.xlim([0.0, 1.0])\n",
    "plt.ylim([0.0, 1.05])\n",
    "plt.xlabel('Taxa de Falso Positivo')\n",
    "plt.ylabel('Taxa de Verdadeiro Positivo')\n",
    "plt.title('Características operacionais do receptor')\n",
    "plt.legend(loc=\"lower right\")\n",
    " \n",
    "# cria os eixos com os thresholds (scores)\n",
    "ax2 = plt.gca().twinx()\n",
    "ax2.plot(fpr, thresholds, markeredgecolor='r',linestyle='dashed', color='r')\n",
    "ax2.set_ylabel('Threshold',color='r')\n",
    "ax2.set_ylim([thresholds[-1],thresholds[0]])\n",
    "ax2.set_xlim([fpr[0],fpr[-1]])\n",
    "\n",
    "print(plt.figure())"
   ]
  },
  {
   "cell_type": "code",
   "execution_count": null,
   "id": "a5ce1680",
   "metadata": {},
   "outputs": [],
   "source": []
  }
 ],
 "metadata": {
  "kernelspec": {
   "display_name": "conda_python3",
   "language": "python",
   "name": "conda_python3"
  },
  "language_info": {
   "codemirror_mode": {
    "name": "ipython",
    "version": 3
   },
   "file_extension": ".py",
   "mimetype": "text/x-python",
   "name": "python",
   "nbconvert_exporter": "python",
   "pygments_lexer": "ipython3",
   "version": "3.6.13"
  }
 },
 "nbformat": 4,
 "nbformat_minor": 5
}
